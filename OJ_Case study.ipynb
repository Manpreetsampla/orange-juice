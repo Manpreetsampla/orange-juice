{
 "cells": [
  {
   "cell_type": "code",
   "execution_count": 1,
   "metadata": {
    "collapsed": true,
    "scrolled": true
   },
   "outputs": [],
   "source": [
    "import pandas as pd\n",
    "import numpy as np"
   ]
  },
  {
   "cell_type": "code",
   "execution_count": 2,
   "metadata": {
    "collapsed": true,
    "scrolled": true
   },
   "outputs": [],
   "source": [
    "oj=pd.read_csv(\"oj.csv\",encoding=\"latin\")"
   ]
  },
  {
   "cell_type": "code",
   "execution_count": null,
   "metadata": {
    "collapsed": true
   },
   "outputs": [],
   "source": [
    "#1. Find the dimensions of the oj data set\n",
    "oj.shape"
   ]
  },
  {
   "cell_type": "code",
   "execution_count": null,
   "metadata": {
    "collapsed": true
   },
   "outputs": [],
   "source": [
    "# 2.\tFind the structure of the data set\n",
    "oj.info()"
   ]
  },
  {
   "cell_type": "code",
   "execution_count": null,
   "metadata": {
    "collapsed": true,
    "scrolled": true
   },
   "outputs": [],
   "source": [
    "# 3 Find out the column names in the data set"
   ]
  },
  {
   "cell_type": "code",
   "execution_count": null,
   "metadata": {
    "collapsed": true
   },
   "outputs": [],
   "source": [
    "oj.columns"
   ]
  },
  {
   "cell_type": "code",
   "execution_count": null,
   "metadata": {
    "collapsed": true
   },
   "outputs": [],
   "source": [
    "#4.Describe the data set\n",
    "oj.describe()"
   ]
  },
  {
   "cell_type": "code",
   "execution_count": 48,
   "metadata": {
    "collapsed": true
   },
   "outputs": [],
   "source": [
    "# 5. Update the column names of the data set, such that every column name is in lowercase\n",
    "oj.columns = [col.lower() for col in list(oj.columns) ]"
   ]
  },
  {
   "cell_type": "markdown",
   "metadata": {},
   "source": [
    "Data Retrival"
   ]
  },
  {
   "cell_type": "code",
   "execution_count": null,
   "metadata": {
    "collapsed": true
   },
   "outputs": [],
   "source": [
    "#1. Fetch the first row 3rd column from the data set\n",
    "oj.iloc[0,2]"
   ]
  },
  {
   "cell_type": "code",
   "execution_count": null,
   "metadata": {
    "collapsed": true
   },
   "outputs": [],
   "source": [
    "# 2. Fetch the first, second and Third columns of the oj data frame\n",
    "oj.iloc[0:,[0,1,2]].head()"
   ]
  },
  {
   "cell_type": "code",
   "execution_count": 6,
   "metadata": {
    "scrolled": true
   },
   "outputs": [
    {
     "data": {
      "text/html": [
       "<div>\n",
       "<style>\n",
       "    .dataframe thead tr:only-child th {\n",
       "        text-align: right;\n",
       "    }\n",
       "\n",
       "    .dataframe thead th {\n",
       "        text-align: left;\n",
       "    }\n",
       "\n",
       "    .dataframe tbody tr th {\n",
       "        vertical-align: top;\n",
       "    }\n",
       "</style>\n",
       "<table border=\"1\" class=\"dataframe\">\n",
       "  <thead>\n",
       "    <tr style=\"text-align: right;\">\n",
       "      <th></th>\n",
       "      <th>store</th>\n",
       "      <th>week</th>\n",
       "      <th>price</th>\n",
       "    </tr>\n",
       "  </thead>\n",
       "  <tbody>\n",
       "    <tr>\n",
       "      <th>0</th>\n",
       "      <td>2</td>\n",
       "      <td>40</td>\n",
       "      <td>3.87</td>\n",
       "    </tr>\n",
       "    <tr>\n",
       "      <th>1</th>\n",
       "      <td>2</td>\n",
       "      <td>46</td>\n",
       "      <td>3.87</td>\n",
       "    </tr>\n",
       "    <tr>\n",
       "      <th>7</th>\n",
       "      <td>2</td>\n",
       "      <td>53</td>\n",
       "      <td>3.29</td>\n",
       "    </tr>\n",
       "    <tr>\n",
       "      <th>455</th>\n",
       "      <td>5</td>\n",
       "      <td>51</td>\n",
       "      <td>2.99</td>\n",
       "    </tr>\n",
       "  </tbody>\n",
       "</table>\n",
       "</div>"
      ],
      "text/plain": [
       "     store  week  price\n",
       "0        2    40   3.87\n",
       "1        2    46   3.87\n",
       "7        2    53   3.29\n",
       "455      5    51   2.99"
      ]
     },
     "execution_count": 6,
     "metadata": {},
     "output_type": "execute_result"
    }
   ],
   "source": [
    "#3. Fetch the first, second, eighth and the 456th rows of the 1st, third and the sixth columns of the data frame\n",
    "oj.iloc[[0,1,7,455],[0,2,5]]"
   ]
  },
  {
   "cell_type": "code",
   "execution_count": null,
   "metadata": {
    "collapsed": true,
    "scrolled": true
   },
   "outputs": [],
   "source": [
    "# 4. Fetch the first 5 rows of the brand column of the dataset\n",
    "oj['brand'].head()"
   ]
  },
  {
   "cell_type": "code",
   "execution_count": null,
   "metadata": {
    "collapsed": true,
    "scrolled": true
   },
   "outputs": [],
   "source": [
    "#5. Fetch top 5 rows of the brand, week and feat details \n",
    "oj[['brand','week','feat']].head()"
   ]
  },
  {
   "cell_type": "code",
   "execution_count": null,
   "metadata": {
    "collapsed": true,
    "scrolled": true
   },
   "outputs": [],
   "source": [
    "# 6.Fetch the details of all the distinct stores\n",
    "oj[\"store\"].unique()"
   ]
  },
  {
   "cell_type": "code",
   "execution_count": null,
   "metadata": {
    "collapsed": true,
    "scrolled": true
   },
   "outputs": [],
   "source": [
    "# 7. Fetch all the observations for Tropicana brand\n",
    "oj[oj['brand']=='tropicana']\n",
    "oj[oj.brand == 'tropicana']"
   ]
  },
  {
   "cell_type": "code",
   "execution_count": null,
   "metadata": {
    "collapsed": true,
    "scrolled": true
   },
   "outputs": [],
   "source": [
    "# 8. Fetch all the observations for Tropicana brand using query function\n",
    "oj.query(\"brand=='tropicana'\")"
   ]
  },
  {
   "cell_type": "code",
   "execution_count": null,
   "metadata": {
    "collapsed": true,
    "scrolled": true
   },
   "outputs": [],
   "source": [
    "# 9 Fetch store,brand and price observations for the brand toppicana\n",
    "oj[oj.brand=='tropicana'][['store','brand','price']].tail()"
   ]
  },
  {
   "cell_type": "code",
   "execution_count": 8,
   "metadata": {
    "scrolled": true
   },
   "outputs": [
    {
     "data": {
      "text/html": [
       "<div>\n",
       "<style>\n",
       "    .dataframe thead tr:only-child th {\n",
       "        text-align: right;\n",
       "    }\n",
       "\n",
       "    .dataframe thead th {\n",
       "        text-align: left;\n",
       "    }\n",
       "\n",
       "    .dataframe tbody tr th {\n",
       "        vertical-align: top;\n",
       "    }\n",
       "</style>\n",
       "<table border=\"1\" class=\"dataframe\">\n",
       "  <thead>\n",
       "    <tr style=\"text-align: right;\">\n",
       "      <th></th>\n",
       "      <th>store</th>\n",
       "      <th>brand</th>\n",
       "      <th>week</th>\n",
       "      <th>logmove</th>\n",
       "      <th>feat</th>\n",
       "      <th>price</th>\n",
       "      <th>AGE60</th>\n",
       "      <th>EDUC</th>\n",
       "      <th>ETHNIC</th>\n",
       "      <th>INCOME</th>\n",
       "      <th>HHLARGE</th>\n",
       "      <th>WORKWOM</th>\n",
       "      <th>HVAL150</th>\n",
       "      <th>SSTRDIST</th>\n",
       "      <th>SSTRVOL</th>\n",
       "      <th>CPDIST5</th>\n",
       "      <th>CPWVOL5</th>\n",
       "    </tr>\n",
       "  </thead>\n",
       "  <tbody>\n",
       "    <tr>\n",
       "      <th>28746</th>\n",
       "      <td>137</td>\n",
       "      <td>tropicana</td>\n",
       "      <td>156</td>\n",
       "      <td>11.313498</td>\n",
       "      <td>1</td>\n",
       "      <td>2.49</td>\n",
       "      <td>0.209602</td>\n",
       "      <td>0.528362</td>\n",
       "      <td>0.11325</td>\n",
       "      <td>10.96649</td>\n",
       "      <td>0.092996</td>\n",
       "      <td>0.330293</td>\n",
       "      <td>0.860739</td>\n",
       "      <td>6.026484</td>\n",
       "      <td>0.705882</td>\n",
       "      <td>0.77253</td>\n",
       "      <td>0.333761</td>\n",
       "    </tr>\n",
       "    <tr>\n",
       "      <th>28747</th>\n",
       "      <td>137</td>\n",
       "      <td>tropicana</td>\n",
       "      <td>157</td>\n",
       "      <td>10.628133</td>\n",
       "      <td>0</td>\n",
       "      <td>2.66</td>\n",
       "      <td>0.209602</td>\n",
       "      <td>0.528362</td>\n",
       "      <td>0.11325</td>\n",
       "      <td>10.96649</td>\n",
       "      <td>0.092996</td>\n",
       "      <td>0.330293</td>\n",
       "      <td>0.860739</td>\n",
       "      <td>6.026484</td>\n",
       "      <td>0.705882</td>\n",
       "      <td>0.77253</td>\n",
       "      <td>0.333761</td>\n",
       "    </tr>\n",
       "    <tr>\n",
       "      <th>28748</th>\n",
       "      <td>137</td>\n",
       "      <td>tropicana</td>\n",
       "      <td>158</td>\n",
       "      <td>9.936535</td>\n",
       "      <td>0</td>\n",
       "      <td>3.11</td>\n",
       "      <td>0.209602</td>\n",
       "      <td>0.528362</td>\n",
       "      <td>0.11325</td>\n",
       "      <td>10.96649</td>\n",
       "      <td>0.092996</td>\n",
       "      <td>0.330293</td>\n",
       "      <td>0.860739</td>\n",
       "      <td>6.026484</td>\n",
       "      <td>0.705882</td>\n",
       "      <td>0.77253</td>\n",
       "      <td>0.333761</td>\n",
       "    </tr>\n",
       "    <tr>\n",
       "      <th>28749</th>\n",
       "      <td>137</td>\n",
       "      <td>tropicana</td>\n",
       "      <td>159</td>\n",
       "      <td>10.855917</td>\n",
       "      <td>1</td>\n",
       "      <td>2.79</td>\n",
       "      <td>0.209602</td>\n",
       "      <td>0.528362</td>\n",
       "      <td>0.11325</td>\n",
       "      <td>10.96649</td>\n",
       "      <td>0.092996</td>\n",
       "      <td>0.330293</td>\n",
       "      <td>0.860739</td>\n",
       "      <td>6.026484</td>\n",
       "      <td>0.705882</td>\n",
       "      <td>0.77253</td>\n",
       "      <td>0.333761</td>\n",
       "    </tr>\n",
       "    <tr>\n",
       "      <th>28750</th>\n",
       "      <td>137</td>\n",
       "      <td>tropicana</td>\n",
       "      <td>160</td>\n",
       "      <td>10.236525</td>\n",
       "      <td>0</td>\n",
       "      <td>2.88</td>\n",
       "      <td>0.209602</td>\n",
       "      <td>0.528362</td>\n",
       "      <td>0.11325</td>\n",
       "      <td>10.96649</td>\n",
       "      <td>0.092996</td>\n",
       "      <td>0.330293</td>\n",
       "      <td>0.860739</td>\n",
       "      <td>6.026484</td>\n",
       "      <td>0.705882</td>\n",
       "      <td>0.77253</td>\n",
       "      <td>0.333761</td>\n",
       "    </tr>\n",
       "  </tbody>\n",
       "</table>\n",
       "</div>"
      ],
      "text/plain": [
       "       store      brand  week    logmove  feat  price     AGE60      EDUC  \\\n",
       "28746    137  tropicana   156  11.313498     1   2.49  0.209602  0.528362   \n",
       "28747    137  tropicana   157  10.628133     0   2.66  0.209602  0.528362   \n",
       "28748    137  tropicana   158   9.936535     0   3.11  0.209602  0.528362   \n",
       "28749    137  tropicana   159  10.855917     1   2.79  0.209602  0.528362   \n",
       "28750    137  tropicana   160  10.236525     0   2.88  0.209602  0.528362   \n",
       "\n",
       "        ETHNIC    INCOME   HHLARGE   WORKWOM   HVAL150  SSTRDIST   SSTRVOL  \\\n",
       "28746  0.11325  10.96649  0.092996  0.330293  0.860739  6.026484  0.705882   \n",
       "28747  0.11325  10.96649  0.092996  0.330293  0.860739  6.026484  0.705882   \n",
       "28748  0.11325  10.96649  0.092996  0.330293  0.860739  6.026484  0.705882   \n",
       "28749  0.11325  10.96649  0.092996  0.330293  0.860739  6.026484  0.705882   \n",
       "28750  0.11325  10.96649  0.092996  0.330293  0.860739  6.026484  0.705882   \n",
       "\n",
       "       CPDIST5   CPWVOL5  \n",
       "28746  0.77253  0.333761  \n",
       "28747  0.77253  0.333761  \n",
       "28748  0.77253  0.333761  \n",
       "28749  0.77253  0.333761  \n",
       "28750  0.77253  0.333761  "
      ]
     },
     "execution_count": 8,
     "metadata": {},
     "output_type": "execute_result"
    }
   ],
   "source": [
    "# 10. Fetch last 5  observations for those who have bought Tropicana or dominics\n",
    "oj[(oj.brand == 'tropicana') | (oj.brand == 'dominicks')].tail(5)"
   ]
  },
  {
   "cell_type": "code",
   "execution_count": null,
   "metadata": {
    "collapsed": true,
    "scrolled": true
   },
   "outputs": [],
   "source": [
    "#11. Fetch the first 5 observations of income, brand, price observations with Tropicana brand \n",
    "# without feature advertisement\n",
    "oj[(oj.brand=='tropicana')&(oj.feat==0)][[\"INCOME\",\"brand\",\"price\"]].head()"
   ]
  },
  {
   "cell_type": "code",
   "execution_count": null,
   "metadata": {
    "collapsed": true
   },
   "outputs": [],
   "source": [
    "oj.query(\"(brand=='tropicana')&(feat==0)\")[[\"INCOME\",\"brand\",\"price\"]].head()"
   ]
  },
  {
   "cell_type": "code",
   "execution_count": null,
   "metadata": {
    "collapsed": true,
    "scrolled": true
   },
   "outputs": [],
   "source": [
    "#12 .Add a new column to the dataframe normInc which is the normalised value of income\n",
    "oj['normInc'] = ((oj['INCOME'])-oj['INCOME'].mean())/oj['INCOME'].std()"
   ]
  },
  {
   "cell_type": "code",
   "execution_count": null,
   "metadata": {
    "collapsed": true
   },
   "outputs": [],
   "source": [
    "oj.shape"
   ]
  },
  {
   "cell_type": "code",
   "execution_count": null,
   "metadata": {
    "collapsed": true
   },
   "outputs": [],
   "source": [
    "oj.head()"
   ]
  },
  {
   "cell_type": "code",
   "execution_count": null,
   "metadata": {
    "collapsed": true,
    "scrolled": true
   },
   "outputs": [],
   "source": [
    "# 13 Remove the column normInc from the data frame\n",
    "del oj['normInc']"
   ]
  },
  {
   "cell_type": "code",
   "execution_count": null,
   "metadata": {
    "collapsed": true
   },
   "outputs": [],
   "source": [
    "oj.head()"
   ]
  },
  {
   "cell_type": "code",
   "execution_count": 50,
   "metadata": {},
   "outputs": [
    {
     "data": {
      "text/html": [
       "<div>\n",
       "<style>\n",
       "    .dataframe thead tr:only-child th {\n",
       "        text-align: right;\n",
       "    }\n",
       "\n",
       "    .dataframe thead th {\n",
       "        text-align: left;\n",
       "    }\n",
       "\n",
       "    .dataframe tbody tr th {\n",
       "        vertical-align: top;\n",
       "    }\n",
       "</style>\n",
       "<table border=\"1\" class=\"dataframe\">\n",
       "  <thead>\n",
       "    <tr style=\"text-align: right;\">\n",
       "      <th></th>\n",
       "      <th>brand</th>\n",
       "      <th>week</th>\n",
       "      <th>logmove</th>\n",
       "      <th>feat</th>\n",
       "      <th>age60</th>\n",
       "      <th>educ</th>\n",
       "      <th>ethnic</th>\n",
       "      <th>hhlarge</th>\n",
       "      <th>workwom</th>\n",
       "      <th>hval150</th>\n",
       "      <th>sstrdist</th>\n",
       "      <th>sstrvol</th>\n",
       "      <th>cpdist5</th>\n",
       "      <th>cpwvol5</th>\n",
       "    </tr>\n",
       "  </thead>\n",
       "  <tbody>\n",
       "    <tr>\n",
       "      <th>0</th>\n",
       "      <td>tropicana</td>\n",
       "      <td>40</td>\n",
       "      <td>9.018695</td>\n",
       "      <td>0</td>\n",
       "      <td>0.232865</td>\n",
       "      <td>0.248935</td>\n",
       "      <td>0.11428</td>\n",
       "      <td>0.103953</td>\n",
       "      <td>0.303585</td>\n",
       "      <td>0.463887</td>\n",
       "      <td>2.110122</td>\n",
       "      <td>1.142857</td>\n",
       "      <td>1.92728</td>\n",
       "      <td>0.376927</td>\n",
       "    </tr>\n",
       "    <tr>\n",
       "      <th>1</th>\n",
       "      <td>tropicana</td>\n",
       "      <td>46</td>\n",
       "      <td>8.723231</td>\n",
       "      <td>0</td>\n",
       "      <td>0.232865</td>\n",
       "      <td>0.248935</td>\n",
       "      <td>0.11428</td>\n",
       "      <td>0.103953</td>\n",
       "      <td>0.303585</td>\n",
       "      <td>0.463887</td>\n",
       "      <td>2.110122</td>\n",
       "      <td>1.142857</td>\n",
       "      <td>1.92728</td>\n",
       "      <td>0.376927</td>\n",
       "    </tr>\n",
       "    <tr>\n",
       "      <th>2</th>\n",
       "      <td>tropicana</td>\n",
       "      <td>47</td>\n",
       "      <td>8.253228</td>\n",
       "      <td>0</td>\n",
       "      <td>0.232865</td>\n",
       "      <td>0.248935</td>\n",
       "      <td>0.11428</td>\n",
       "      <td>0.103953</td>\n",
       "      <td>0.303585</td>\n",
       "      <td>0.463887</td>\n",
       "      <td>2.110122</td>\n",
       "      <td>1.142857</td>\n",
       "      <td>1.92728</td>\n",
       "      <td>0.376927</td>\n",
       "    </tr>\n",
       "    <tr>\n",
       "      <th>3</th>\n",
       "      <td>tropicana</td>\n",
       "      <td>48</td>\n",
       "      <td>8.987197</td>\n",
       "      <td>0</td>\n",
       "      <td>0.232865</td>\n",
       "      <td>0.248935</td>\n",
       "      <td>0.11428</td>\n",
       "      <td>0.103953</td>\n",
       "      <td>0.303585</td>\n",
       "      <td>0.463887</td>\n",
       "      <td>2.110122</td>\n",
       "      <td>1.142857</td>\n",
       "      <td>1.92728</td>\n",
       "      <td>0.376927</td>\n",
       "    </tr>\n",
       "    <tr>\n",
       "      <th>4</th>\n",
       "      <td>tropicana</td>\n",
       "      <td>50</td>\n",
       "      <td>9.093357</td>\n",
       "      <td>0</td>\n",
       "      <td>0.232865</td>\n",
       "      <td>0.248935</td>\n",
       "      <td>0.11428</td>\n",
       "      <td>0.103953</td>\n",
       "      <td>0.303585</td>\n",
       "      <td>0.463887</td>\n",
       "      <td>2.110122</td>\n",
       "      <td>1.142857</td>\n",
       "      <td>1.92728</td>\n",
       "      <td>0.376927</td>\n",
       "    </tr>\n",
       "  </tbody>\n",
       "</table>\n",
       "</div>"
      ],
      "text/plain": [
       "       brand  week   logmove  feat     age60      educ   ethnic   hhlarge  \\\n",
       "0  tropicana    40  9.018695     0  0.232865  0.248935  0.11428  0.103953   \n",
       "1  tropicana    46  8.723231     0  0.232865  0.248935  0.11428  0.103953   \n",
       "2  tropicana    47  8.253228     0  0.232865  0.248935  0.11428  0.103953   \n",
       "3  tropicana    48  8.987197     0  0.232865  0.248935  0.11428  0.103953   \n",
       "4  tropicana    50  9.093357     0  0.232865  0.248935  0.11428  0.103953   \n",
       "\n",
       "    workwom   hval150  sstrdist   sstrvol  cpdist5   cpwvol5  \n",
       "0  0.303585  0.463887  2.110122  1.142857  1.92728  0.376927  \n",
       "1  0.303585  0.463887  2.110122  1.142857  1.92728  0.376927  \n",
       "2  0.303585  0.463887  2.110122  1.142857  1.92728  0.376927  \n",
       "3  0.303585  0.463887  2.110122  1.142857  1.92728  0.376927  \n",
       "4  0.303585  0.463887  2.110122  1.142857  1.92728  0.376927  "
      ]
     },
     "execution_count": 50,
     "metadata": {},
     "output_type": "execute_result"
    }
   ],
   "source": [
    "# 14. Fetch the observations for the tropicana \n",
    "# brand excluding the store, price and income fields\n",
    "oj.query(\"brand == 'tropicana'\").drop([\"price\",\"store\",\"income\"],1).\\\n",
    "head()"
   ]
  },
  {
   "cell_type": "code",
   "execution_count": null,
   "metadata": {
    "collapsed": true
   },
   "outputs": [],
   "source": [
    "# 15.Sort the Data in the increasing order of the week\n",
    "oj.sort_values(by=\"week\",ascending=True)"
   ]
  },
  {
   "cell_type": "code",
   "execution_count": null,
   "metadata": {
    "collapsed": true
   },
   "outputs": [],
   "source": [
    "# 16. Sort the data in the decreasing order of Income and increasing \n",
    "#order of week\n",
    "oj.sort_values(by=[\"income\",\"week\"],ascending=[False,True])"
   ]
  },
  {
   "cell_type": "code",
   "execution_count": null,
   "metadata": {
    "collapsed": true
   },
   "outputs": [],
   "source": [
    "##17.Find the mean of the Juice price for each brand\n",
    "dat=oj[[\"brand\",\"price\"]]\n",
    "dat.groupby(\"brand\").mean()"
   ]
  },
  {
   "cell_type": "code",
   "execution_count": null,
   "metadata": {
    "collapsed": true
   },
   "outputs": [],
   "source": [
    "##17.Find the mean of the Juice price for each brand\n",
    "oj.groupby(\"brand\").agg({\"price\":np.mean})"
   ]
  },
  {
   "cell_type": "code",
   "execution_count": null,
   "metadata": {
    "collapsed": true
   },
   "outputs": [],
   "source": [
    "#18 . Find the mean, sum, std of price for every brand\n",
    "dat=oj[[\"brand\",\"price\"]]\n",
    "dat.groupby(\"brand\").agg([\"mean\",\"sum\",\"std\"])"
   ]
  },
  {
   "cell_type": "code",
   "execution_count": null,
   "metadata": {
    "collapsed": true
   },
   "outputs": [],
   "source": [
    "#19. For every brand find the mean price and sum of income\n",
    "oj.groupby(\"brand\").agg({\"price\":np.mean,\"income\":np.sum})"
   ]
  },
  {
   "cell_type": "code",
   "execution_count": null,
   "metadata": {
    "collapsed": true
   },
   "outputs": [],
   "source": [
    "# 20.Find the average income for each brand and at each store\n",
    "dat=oj[[\"brand\",\"store\",\"income\"]]\n",
    "dat.groupby([\"brand\",\"store\"]).mean()"
   ]
  },
  {
   "cell_type": "code",
   "execution_count": null,
   "metadata": {
    "collapsed": true
   },
   "outputs": [],
   "source": [
    "oj.groupby([\"brand\",\"store\"]).agg({\"income\":np.mean})"
   ]
  },
  {
   "cell_type": "code",
   "execution_count": null,
   "metadata": {
    "collapsed": true,
    "scrolled": true
   },
   "outputs": [],
   "source": [
    "#21.a Mean and std deviation of the income for each brand\n",
    "dat=oj[[\"brand\",\"income\"]]\n",
    "dat.groupby(\"brand\").agg([\"mean\",\"std\",\"count\"])"
   ]
  },
  {
   "cell_type": "code",
   "execution_count": null,
   "metadata": {
    "collapsed": true,
    "scrolled": true
   },
   "outputs": [],
   "source": [
    "# 21.b mean of price for income >=10.5\n",
    "dat=oj.query(\"income>=10.5\")[[\"price\"]]\n",
    "dat.mean()"
   ]
  },
  {
   "cell_type": "code",
   "execution_count": null,
   "metadata": {
    "collapsed": true
   },
   "outputs": [],
   "source": [
    "#21.c mean of price for income >=10.5 for each brand\n",
    "dat=oj.query(\"income>=10.5\")[[\"price\",\"brand\"]]\n",
    "dat.groupby(\"brand\").mean()"
   ]
  },
  {
   "cell_type": "code",
   "execution_count": null,
   "metadata": {
    "collapsed": true
   },
   "outputs": [],
   "source": [
    "oj.groupby([\"brand\",\"feat\"]).agg({\"store\":np.size})"
   ]
  },
  {
   "cell_type": "code",
   "execution_count": null,
   "metadata": {
    "collapsed": true
   },
   "outputs": [],
   "source": [
    "#22 Find the Cross tabulation of brands and feature advertisement\n",
    "#To find the total observations for each brand and for every feature advertisement category\n",
    "dat=oj[[\"brand\",\"feat\",\"store\"]]\n",
    "dat.groupby([\"brand\",\"feat\"]).count()"
   ]
  },
  {
   "cell_type": "code",
   "execution_count": null,
   "metadata": {
    "collapsed": true
   },
   "outputs": [],
   "source": [
    "pd.crosstab(oj['brand'],oj['feat'])"
   ]
  }
 ],
 "metadata": {
  "kernelspec": {
   "display_name": "Python 3",
   "language": "python",
   "name": "python3"
  },
  "language_info": {
   "codemirror_mode": {
    "name": "ipython",
    "version": 3
   },
   "file_extension": ".py",
   "mimetype": "text/x-python",
   "name": "python",
   "nbconvert_exporter": "python",
   "pygments_lexer": "ipython3",
   "version": "3.6.4"
  }
 },
 "nbformat": 4,
 "nbformat_minor": 2
}
